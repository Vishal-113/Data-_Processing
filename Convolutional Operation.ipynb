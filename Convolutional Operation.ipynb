{
  "nbformat": 4,
  "nbformat_minor": 0,
  "metadata": {
    "colab": {
      "provenance": [],
      "authorship_tag": "ABX9TyOj9Nab6oXHXOJAQ0G1r5R1",
      "include_colab_link": true
    },
    "kernelspec": {
      "name": "python3",
      "display_name": "Python 3"
    },
    "language_info": {
      "name": "python"
    }
  },
  "cells": [
    {
      "cell_type": "markdown",
      "metadata": {
        "id": "view-in-github",
        "colab_type": "text"
      },
      "source": [
        "<a href=\"https://colab.research.google.com/github/Vishal-113/Data-_Processing/blob/main/Untitled2.ipynb\" target=\"_parent\"><img src=\"https://colab.research.google.com/assets/colab-badge.svg\" alt=\"Open In Colab\"/></a>"
      ]
    },
    {
      "cell_type": "code",
      "execution_count": null,
      "metadata": {
        "id": "V3zozVS0oaXN",
        "outputId": "6b07835e-3cda-484e-edaf-0099e79513ec",
        "colab": {
          "base_uri": "https://localhost:8080/"
        }
      },
      "outputs": [
        {
          "output_type": "stream",
          "name": "stdout",
          "text": [
            "Stride = 1, Padding = 'VALID':\n",
            " [[0. 0. 0.]\n",
            " [0. 0. 0.]\n",
            " [0. 0. 0.]]\n",
            "\n",
            "Stride = 1, Padding = 'SAME':\n",
            " [[  4.   3.   2.   1.  -6.]\n",
            " [ -5.   0.   0.   0. -11.]\n",
            " [-10.   0.   0.   0. -16.]\n",
            " [-15.   0.   0.   0. -21.]\n",
            " [-46. -27. -28. -29. -56.]]\n",
            "\n",
            "Stride = 2, Padding = 'VALID':\n",
            " [[0. 0.]\n",
            " [0. 0.]]\n",
            "\n",
            "Stride = 2, Padding = 'SAME':\n",
            " [[  4.   2.  -6.]\n",
            " [-10.   0. -16.]\n",
            " [-46. -28. -56.]]\n"
          ]
        }
      ],
      "source": [
        "import numpy as np\n",
        "import tensorflow as tf\n",
        "\n",
        "# Disable eager execution warning (for older TF versions)\n",
        "tf.compat.v1.disable_eager_execution()\n",
        "\n",
        "# 1. Define the 5×5 input matrix\n",
        "input_matrix = np.array([\n",
        "    [1, 2, 3, 4, 5],\n",
        "    [6, 7, 8, 9, 10],\n",
        "    [11, 12, 13, 14, 15],\n",
        "    [16, 17, 18, 19, 20],\n",
        "    [21, 22, 23, 24, 25]\n",
        "], dtype=np.float32)\n",
        "\n",
        "# 2. Define the 3×3 kernel\n",
        "kernel = np.array([\n",
        "    [0, 1, 0],\n",
        "    [1, -4, 1],\n",
        "    [0, 1, 0]\n",
        "], dtype=np.float32)\n",
        "\n",
        "# Reshape input and kernel to match TensorFlow format\n",
        "input_tensor = tf.constant(input_matrix.reshape(1, 5, 5, 1))  # shape = (batch, height, width, channels)\n",
        "kernel_tensor = tf.constant(kernel.reshape(3, 3, 1, 1))        # shape = (filter_height, filter_width, in_channels, out_channels)\n",
        "\n",
        "# 3. Define a function to perform convolution\n",
        "def run_convolution(stride=1, padding='VALID'):\n",
        "    strides = [1, stride, stride, 1]\n",
        "    conv = tf.nn.conv2d(input_tensor, kernel_tensor, strides=strides, padding=padding)\n",
        "    with tf.compat.v1.Session() as sess:\n",
        "        result = sess.run(conv)\n",
        "    return result[0, :, :, 0]  # remove batch and channel dimensions\n",
        "\n",
        "# 4. Perform convolution with different settings\n",
        "output_1 = run_convolution(stride=1, padding='VALID')\n",
        "output_2 = run_convolution(stride=1, padding='SAME')\n",
        "output_3 = run_convolution(stride=2, padding='VALID')\n",
        "output_4 = run_convolution(stride=2, padding='SAME')\n",
        "\n",
        "# 5. Print the output feature maps\n",
        "print(\"Stride = 1, Padding = 'VALID':\\n\", output_1)\n",
        "print(\"\\nStride = 1, Padding = 'SAME':\\n\", output_2)\n",
        "print(\"\\nStride = 2, Padding = 'VALID':\\n\", output_3)\n",
        "print(\"\\nStride = 2, Padding = 'SAME':\\n\", output_4)"
      ]
    }
  ]
}
